{
 "cells": [
  {
   "cell_type": "markdown",
   "metadata": {
    "toc": true
   },
   "source": [
    "<h1>Содержание<span class=\"tocSkip\"></span></h1>\n",
    "<div class=\"toc\"><ul class=\"toc-item\"><li><ul class=\"toc-item\"><li><span><a href=\"#Общее-впечатление\" data-toc-modified-id=\"Общее-впечатление-0.1\"><span class=\"toc-item-num\">0.1&nbsp;&nbsp;</span><font color=\"orange\">Общее впечатление</font></a></span></li></ul></li><li><span><a href=\"#Подготовка\" data-toc-modified-id=\"Подготовка-1\"><span class=\"toc-item-num\">1&nbsp;&nbsp;</span>Подготовка</a></span><ul class=\"toc-item\"><li><span><a href=\"#Закрузка-и-импорт-библиотек\" data-toc-modified-id=\"Закрузка-и-импорт-библиотек-1.1\"><span class=\"toc-item-num\">1.1&nbsp;&nbsp;</span>Закрузка и импорт библиотек</a></span></li><li><span><a href=\"#Закрузка-и-проверка-данных\" data-toc-modified-id=\"Закрузка-и-проверка-данных-1.2\"><span class=\"toc-item-num\">1.2&nbsp;&nbsp;</span>Закрузка и проверка данных</a></span></li><li><span><a href=\"#Очистка-текста\" data-toc-modified-id=\"Очистка-текста-1.3\"><span class=\"toc-item-num\">1.3&nbsp;&nbsp;</span>Очистка текста</a></span></li><li><span><a href=\"#Лемматизация\" data-toc-modified-id=\"Лемматизация-1.4\"><span class=\"toc-item-num\">1.4&nbsp;&nbsp;</span>Лемматизация</a></span></li></ul></li><li><span><a href=\"#Обучение\" data-toc-modified-id=\"Обучение-2\"><span class=\"toc-item-num\">2&nbsp;&nbsp;</span>Обучение</a></span><ul class=\"toc-item\"><li><span><a href=\"#Baseline\" data-toc-modified-id=\"Baseline-2.1\"><span class=\"toc-item-num\">2.1&nbsp;&nbsp;</span>Baseline</a></span></li><li><span><a href=\"#Подбор-моделей\" data-toc-modified-id=\"Подбор-моделей-2.2\"><span class=\"toc-item-num\">2.2&nbsp;&nbsp;</span>Подбор моделей</a></span></li></ul></li><li><span><a href=\"#Выводы\" data-toc-modified-id=\"Выводы-3\"><span class=\"toc-item-num\">3&nbsp;&nbsp;</span>Выводы</a></span></li><li><span><a href=\"#Чек-лист-проверки\" data-toc-modified-id=\"Чек-лист-проверки-4\"><span class=\"toc-item-num\">4&nbsp;&nbsp;</span>Чек-лист проверки</a></span></li></ul></div>"
   ]
  },
  {
   "cell_type": "markdown",
   "metadata": {},
   "source": [
    "# Проект для «Викишоп»"
   ]
  },
  {
   "cell_type": "markdown",
   "metadata": {},
   "source": [
    "Интернет-магазин «Викишоп» запускает новый сервис. Теперь пользователи могут редактировать и дополнять описания товаров, как в вики-сообществах. То есть клиенты предлагают свои правки и комментируют изменения других. Магазину нужен инструмент, который будет искать токсичные комментарии и отправлять их на модерацию. \n",
    "\n",
    "Обучите модель классифицировать комментарии на позитивные и негативные. В вашем распоряжении набор данных с разметкой о токсичности правок.\n",
    "\n",
    "Постройте модель со значением метрики качества *F1* не меньше 0.75. \n",
    "\n",
    "**Инструкция по выполнению проекта**\n",
    "\n",
    "1. Загрузите и подготовьте данные.\n",
    "2. Обучите разные модели. \n",
    "3. Сделайте выводы.\n",
    "\n",
    "Для выполнения проекта применять *BERT* необязательно, но вы можете попробовать.\n",
    "\n",
    "**Описание данных**\n",
    "\n",
    "Данные находятся в файле `toxic_comments.csv`. Столбец *text* в нём содержит текст комментария, а *toxic* — целевой признак."
   ]
  },
  {
   "cell_type": "markdown",
   "metadata": {},
   "source": [
    "## Подготовка"
   ]
  },
  {
   "cell_type": "markdown",
   "metadata": {},
   "source": [
    "### Закрузка и импорт библиотек"
   ]
  },
  {
   "cell_type": "code",
   "execution_count": 1,
   "metadata": {},
   "outputs": [],
   "source": [
    "!pip install notifiers --quiet\n",
    "!pip install scikit-learn --upgrade --quiet\n",
    "!pip install lightgbm --quiet\n",
    "!pip install progress --quiet\n",
    "!pip install tqdm --quiet"
   ]
  },
  {
   "cell_type": "code",
   "execution_count": 2,
   "metadata": {},
   "outputs": [
    {
     "name": "stdout",
     "output_type": "stream",
     "text": [
      "\u001b[38;5;2m✔ Download and installation successful\u001b[0m\r\n",
      "You can now load the package via spacy.load('en_core_web_sm')\r\n"
     ]
    }
   ],
   "source": [
    "!pip install spacy  --quiet\n",
    "!python -m spacy download en_core_web_sm --quiet"
   ]
  },
  {
   "cell_type": "code",
   "execution_count": 3,
   "metadata": {},
   "outputs": [
    {
     "name": "stdout",
     "output_type": "stream",
     "text": [
      "Requirement already satisfied: nltk in ./jupyterenv/lib/python3.8/site-packages (3.6.2)\r\n",
      "Requirement already satisfied: click in ./jupyterenv/lib/python3.8/site-packages (from nltk) (7.1.2)\r\n",
      "Requirement already satisfied: joblib in ./jupyterenv/lib/python3.8/site-packages (from nltk) (1.0.1)\r\n",
      "Requirement already satisfied: tqdm in ./jupyterenv/lib/python3.8/site-packages (from nltk) (4.61.1)\r\n",
      "Requirement already satisfied: regex in ./jupyterenv/lib/python3.8/site-packages (from nltk) (2021.4.4)\r\n"
     ]
    }
   ],
   "source": [
    "!pip install nltk"
   ]
  },
  {
   "cell_type": "code",
   "execution_count": 19,
   "metadata": {},
   "outputs": [],
   "source": [
    "import pandas as pd\n",
    "import numpy as np\n",
    "import matplotlib.pyplot as plt\n",
    "from tqdm.notebook import tqdm, trange\n",
    "import time \n",
    "from pymystem3 import Mystem\n",
    "from notifiers import get_notifier\n",
    "import re\n",
    "import spacy \n",
    "from tqdm import tqdm, tqdm_pandas\n",
    "from tqdm import notebook\n",
    "\n",
    "import nltk\n",
    "from nltk.corpus import stopwords as nltk_stopwords\n",
    "from sklearn.feature_extraction.text import TfidfVectorizer \n",
    "\n",
    "from sklearn.model_selection import GridSearchCV\n",
    "from sklearn.model_selection import train_test_split\n",
    "from sklearn.metrics import accuracy_score\n",
    "from sklearn.metrics import f1_score\n",
    "\n",
    "#models\n",
    "from sklearn.ensemble import RandomForestClassifier\n",
    "from catboost import CatBoostClassifier\n",
    "from lightgbm import LGBMClassifier\n",
    "from sklearn.linear_model import LogisticRegression\n",
    "\n",
    "tqdm.pandas()\n"
   ]
  },
  {
   "cell_type": "code",
   "execution_count": 5,
   "metadata": {},
   "outputs": [],
   "source": [
    "CHAT_ID = 1234\n",
    "TOKEN = '12345'\n",
    "\n",
    "def make_notifier(token=TOKEN,\n",
    "                 chat_id=CHAT_ID):\n",
    "    def send(text):\n",
    "        telegram=get_notifier('telegram')\n",
    "        telegram.notify(message=text,\n",
    "                       token=token,\n",
    "                       chat_id=chat_id)\n",
    "    return send\n",
    "\n",
    "send = make_notifier()"
   ]
  },
  {
   "cell_type": "markdown",
   "metadata": {},
   "source": [
    "### Закрузка и проверка данных"
   ]
  },
  {
   "cell_type": "code",
   "execution_count": 6,
   "metadata": {},
   "outputs": [],
   "source": [
    "send('--->>> Машинное обучение для текстов. Начало!')"
   ]
  },
  {
   "cell_type": "code",
   "execution_count": 7,
   "metadata": {},
   "outputs": [],
   "source": [
    "df_tweets = pd.read_csv('https://code.s3.yandex.net/datasets/toxic_comments.csv')"
   ]
  },
  {
   "cell_type": "code",
   "execution_count": 8,
   "metadata": {
    "scrolled": true
   },
   "outputs": [
    {
     "name": "stdout",
     "output_type": "stream",
     "text": [
      "<class 'pandas.core.frame.DataFrame'>\n",
      "RangeIndex: 159571 entries, 0 to 159570\n",
      "Data columns (total 2 columns):\n",
      " #   Column  Non-Null Count   Dtype \n",
      "---  ------  --------------   ----- \n",
      " 0   text    159571 non-null  object\n",
      " 1   toxic   159571 non-null  int64 \n",
      "dtypes: int64(1), object(1)\n",
      "memory usage: 2.4+ MB\n"
     ]
    }
   ],
   "source": [
    "df_tweets.info()"
   ]
  },
  {
   "cell_type": "code",
   "execution_count": 9,
   "metadata": {},
   "outputs": [
    {
     "data": {
      "text/html": [
       "<div>\n",
       "<style scoped>\n",
       "    .dataframe tbody tr th:only-of-type {\n",
       "        vertical-align: middle;\n",
       "    }\n",
       "\n",
       "    .dataframe tbody tr th {\n",
       "        vertical-align: top;\n",
       "    }\n",
       "\n",
       "    .dataframe thead th {\n",
       "        text-align: right;\n",
       "    }\n",
       "</style>\n",
       "<table border=\"1\" class=\"dataframe\">\n",
       "  <thead>\n",
       "    <tr style=\"text-align: right;\">\n",
       "      <th></th>\n",
       "      <th>text</th>\n",
       "      <th>toxic</th>\n",
       "    </tr>\n",
       "  </thead>\n",
       "  <tbody>\n",
       "    <tr>\n",
       "      <th>4409</th>\n",
       "      <td>Well, better. I will help improve your userpag...</td>\n",
       "      <td>0</td>\n",
       "    </tr>\n",
       "    <tr>\n",
       "      <th>18534</th>\n",
       "      <td>Deletion of Georgia's 7th congressional distri...</td>\n",
       "      <td>0</td>\n",
       "    </tr>\n",
       "    <tr>\n",
       "      <th>124655</th>\n",
       "      <td>Note that this page is under Pending Changes p...</td>\n",
       "      <td>0</td>\n",
       "    </tr>\n",
       "    <tr>\n",
       "      <th>130583</th>\n",
       "      <td>Hello there \\n\\nLooks like you're still retire...</td>\n",
       "      <td>0</td>\n",
       "    </tr>\n",
       "    <tr>\n",
       "      <th>9337</th>\n",
       "      <td>You seem to eb paid by myspace and okcupid, th...</td>\n",
       "      <td>1</td>\n",
       "    </tr>\n",
       "    <tr>\n",
       "      <th>126878</th>\n",
       "      <td>YOU WILL BE ASSIMALATED</td>\n",
       "      <td>0</td>\n",
       "    </tr>\n",
       "    <tr>\n",
       "      <th>136313</th>\n",
       "      <td>Also, I still think that you should have simpl...</td>\n",
       "      <td>0</td>\n",
       "    </tr>\n",
       "    <tr>\n",
       "      <th>20999</th>\n",
       "      <td>Drastic change are you serious? It's outdated,...</td>\n",
       "      <td>0</td>\n",
       "    </tr>\n",
       "    <tr>\n",
       "      <th>30340</th>\n",
       "      <td>More Conference reporting in April, 2016 ==\\n\\...</td>\n",
       "      <td>0</td>\n",
       "    </tr>\n",
       "    <tr>\n",
       "      <th>48218</th>\n",
       "      <td>thank you anon. I actually participated in tha...</td>\n",
       "      <td>0</td>\n",
       "    </tr>\n",
       "  </tbody>\n",
       "</table>\n",
       "</div>"
      ],
      "text/plain": [
       "                                                     text  toxic\n",
       "4409    Well, better. I will help improve your userpag...      0\n",
       "18534   Deletion of Georgia's 7th congressional distri...      0\n",
       "124655  Note that this page is under Pending Changes p...      0\n",
       "130583  Hello there \\n\\nLooks like you're still retire...      0\n",
       "9337    You seem to eb paid by myspace and okcupid, th...      1\n",
       "126878                            YOU WILL BE ASSIMALATED      0\n",
       "136313  Also, I still think that you should have simpl...      0\n",
       "20999   Drastic change are you serious? It's outdated,...      0\n",
       "30340   More Conference reporting in April, 2016 ==\\n\\...      0\n",
       "48218   thank you anon. I actually participated in tha...      0"
      ]
     },
     "execution_count": 9,
     "metadata": {},
     "output_type": "execute_result"
    }
   ],
   "source": [
    "df_tweets.sample(10)"
   ]
  },
  {
   "cell_type": "code",
   "execution_count": 46,
   "metadata": {},
   "outputs": [
    {
     "data": {
      "text/html": [
       "<div>\n",
       "<style scoped>\n",
       "    .dataframe tbody tr th:only-of-type {\n",
       "        vertical-align: middle;\n",
       "    }\n",
       "\n",
       "    .dataframe tbody tr th {\n",
       "        vertical-align: top;\n",
       "    }\n",
       "\n",
       "    .dataframe thead th {\n",
       "        text-align: right;\n",
       "    }\n",
       "</style>\n",
       "<table border=\"1\" class=\"dataframe\">\n",
       "  <thead>\n",
       "    <tr style=\"text-align: right;\">\n",
       "      <th></th>\n",
       "      <th>text</th>\n",
       "    </tr>\n",
       "    <tr>\n",
       "      <th>toxic</th>\n",
       "      <th></th>\n",
       "    </tr>\n",
       "  </thead>\n",
       "  <tbody>\n",
       "    <tr>\n",
       "      <th>0</th>\n",
       "      <td>143346</td>\n",
       "    </tr>\n",
       "    <tr>\n",
       "      <th>1</th>\n",
       "      <td>16225</td>\n",
       "    </tr>\n",
       "  </tbody>\n",
       "</table>\n",
       "</div>"
      ],
      "text/plain": [
       "         text\n",
       "toxic        \n",
       "0      143346\n",
       "1       16225"
      ]
     },
     "execution_count": 46,
     "metadata": {},
     "output_type": "execute_result"
    }
   ],
   "source": [
    "df_tweets.pivot_table(index='toxic', values='text', aggfunc='count')"
   ]
  },
  {
   "cell_type": "markdown",
   "metadata": {},
   "source": [
    "<b>Итог: </b> текст загружен, пропусков не обнаружено, исследован дисбаланс классов"
   ]
  },
  {
   "cell_type": "markdown",
   "metadata": {},
   "source": [
    "### Очистка текста"
   ]
  },
  {
   "cell_type": "markdown",
   "metadata": {},
   "source": [
    "Сначала очищаем тест от ненужных символов и сотавляем только слова"
   ]
  },
  {
   "cell_type": "code",
   "execution_count": 10,
   "metadata": {},
   "outputs": [],
   "source": [
    "def clear_text(text):\n",
    "    return ' '.join((re.sub(r'[^a-zA-Z]', ' ', text)).split())"
   ]
  },
  {
   "cell_type": "code",
   "execution_count": 11,
   "metadata": {},
   "outputs": [
    {
     "name": "stderr",
     "output_type": "stream",
     "text": [
      "100%|██████████| 159571/159571 [00:04<00:00, 34734.09it/s]\n"
     ]
    }
   ],
   "source": [
    "df_tweets['text_clear'] = df_tweets['text'].progress_apply(lambda x: clear_text(x))"
   ]
  },
  {
   "cell_type": "markdown",
   "metadata": {},
   "source": [
    "### Лемматизация"
   ]
  },
  {
   "cell_type": "markdown",
   "metadata": {},
   "source": [
    "Тут экспериментальным путем выяснилось, что у многих бибилиотек лемматизации довольно много недостатков - начиная с того, что они медленно работает, если лемматизировать каждый твит отдельно (выход - собирать в батчи, а потом снова разбивать после лематизации), заканчивая тем, что нормальной лемматизации для англиского языка нет (банально даже не преобразует времена глаголов).\n",
    "\n",
    "Поэтому в проекте используется spaCy. Ее можно распараллелить штатными средствами и лемматизация получается более сносная."
   ]
  },
  {
   "cell_type": "code",
   "execution_count": 12,
   "metadata": {},
   "outputs": [],
   "source": [
    "nlp = spacy.load('en_core_web_sm', disable=['ner', 'parser']) \n",
    "send('Лемматизация...')"
   ]
  },
  {
   "cell_type": "code",
   "execution_count": 13,
   "metadata": {},
   "outputs": [
    {
     "name": "stderr",
     "output_type": "stream",
     "text": [
      "159571it [07:18, 364.10it/s] \n"
     ]
    }
   ],
   "source": [
    "lemma = []\n",
    "\n",
    "for doc in tqdm(nlp.pipe(df_tweets['text_clear'].astype('unicode').values, batch_size=1000, n_process=-1)):\n",
    "    lemma.append(' '.join([w.lemma_ if w.lemma_ !='-PRON-' else w.text for w in doc]))"
   ]
  },
  {
   "cell_type": "code",
   "execution_count": 14,
   "metadata": {},
   "outputs": [],
   "source": [
    "df_tweets['text_lemm'] = lemma"
   ]
  },
  {
   "cell_type": "markdown",
   "metadata": {},
   "source": [
    "Проверяем результат лемматизации"
   ]
  },
  {
   "cell_type": "code",
   "execution_count": 15,
   "metadata": {},
   "outputs": [
    {
     "data": {
      "text/plain": [
       "'Explanation Why the edits made under my username Hardcore Metallica Fan were reverted They weren t vandalisms just closure on some GAs after I voted at New York Dolls FAC And please don t remove the template from the talk page since I m retired now'"
      ]
     },
     "execution_count": 15,
     "metadata": {},
     "output_type": "execute_result"
    }
   ],
   "source": [
    "df_tweets.iloc[0]['text_clear']"
   ]
  },
  {
   "cell_type": "code",
   "execution_count": 16,
   "metadata": {},
   "outputs": [
    {
     "data": {
      "text/plain": [
       "'Explanation why the edit make under my username Hardcore Metallica Fan be revert they weren t vandalism just closure on some gas after I vote at New York Dolls FAC and please don t remove the template from the talk page since I m retire now'"
      ]
     },
     "execution_count": 16,
     "metadata": {},
     "output_type": "execute_result"
    }
   ],
   "source": [
    "df_tweets.iloc[0]['text_lemm']"
   ]
  },
  {
   "cell_type": "markdown",
   "metadata": {},
   "source": [
    "<b>Итог: </b> текст очищен, лемматизация проведена. Все готово к вычислению фич и обучению моделей."
   ]
  },
  {
   "cell_type": "markdown",
   "metadata": {},
   "source": [
    "## Обучение"
   ]
  },
  {
   "cell_type": "markdown",
   "metadata": {},
   "source": [
    "Рассчитаем векторы слов и сделаем из них признаки для обучения модели."
   ]
  },
  {
   "cell_type": "code",
   "execution_count": 17,
   "metadata": {},
   "outputs": [],
   "source": [
    "send('Обучение моделей...')"
   ]
  },
  {
   "cell_type": "code",
   "execution_count": 21,
   "metadata": {},
   "outputs": [
    {
     "name": "stderr",
     "output_type": "stream",
     "text": [
      "[nltk_data] Downloading package stopwords to /home/itru/nltk_data...\n",
      "[nltk_data]   Unzipping corpora/stopwords.zip.\n"
     ]
    }
   ],
   "source": [
    "nltk.download('stopwords')\n",
    "stop_words = set(nltk_stopwords.words('english'))\n",
    "count_tf_idf = TfidfVectorizer(stop_words=stop_words) "
   ]
  },
  {
   "cell_type": "code",
   "execution_count": 22,
   "metadata": {},
   "outputs": [],
   "source": [
    "df_train, df_test = train_test_split(df_tweets, test_size =.2, stratify=df_tweets['toxic'])"
   ]
  },
  {
   "cell_type": "code",
   "execution_count": 23,
   "metadata": {},
   "outputs": [],
   "source": [
    "corpus_train = df_train['text_lemm'].astype('U')\n",
    "X_train = count_tf_idf.fit_transform(corpus_train)\n",
    "y_train = df_train['toxic']"
   ]
  },
  {
   "cell_type": "code",
   "execution_count": 24,
   "metadata": {},
   "outputs": [],
   "source": [
    "corpus_test = df_test['text_lemm'].astype('U')\n",
    "X_test = count_tf_idf.transform(corpus_test)\n",
    "y_test = df_test['toxic']"
   ]
  },
  {
   "cell_type": "markdown",
   "metadata": {},
   "source": [
    "### Baseline"
   ]
  },
  {
   "cell_type": "markdown",
   "metadata": {},
   "source": [
    "В качестве бейзлайна возмем самую простую и быструю Логистичекую регрессию"
   ]
  },
  {
   "cell_type": "code",
   "execution_count": 25,
   "metadata": {},
   "outputs": [],
   "source": [
    "send('Baseline. Рассчет...')"
   ]
  },
  {
   "cell_type": "code",
   "execution_count": 26,
   "metadata": {},
   "outputs": [],
   "source": [
    "model = LogisticRegression(n_jobs=-1)\n",
    "model.fit(X_train, y_train);"
   ]
  },
  {
   "cell_type": "code",
   "execution_count": 27,
   "metadata": {},
   "outputs": [
    {
     "data": {
      "text/plain": [
       "0.768530439580651"
      ]
     },
     "execution_count": 27,
     "metadata": {},
     "output_type": "execute_result"
    }
   ],
   "source": [
    "f1_score(y_train, model.predict(X_train))"
   ]
  },
  {
   "cell_type": "code",
   "execution_count": 28,
   "metadata": {},
   "outputs": [],
   "source": [
    "f1_baseline = f1_score(y_test, model.predict(X_test))"
   ]
  },
  {
   "cell_type": "code",
   "execution_count": 29,
   "metadata": {},
   "outputs": [],
   "source": [
    "print('Baseline. Результат на тесте:', f1_baseline)\n",
    "send('Baseline. Результат на тесте: ' + str(f1_baseline))"
   ]
  },
  {
   "cell_type": "markdown",
   "metadata": {},
   "source": [
    "<b>Итог: </b> бейзлайн-модель не смогла добиться нужного порога метрики, требуются более совершенные модели."
   ]
  },
  {
   "cell_type": "markdown",
   "metadata": {},
   "source": [
    "### Подбор моделей"
   ]
  },
  {
   "cell_type": "code",
   "execution_count": 30,
   "metadata": {},
   "outputs": [],
   "source": [
    "send('Обучение моделей...')"
   ]
  },
  {
   "cell_type": "code",
   "execution_count": 41,
   "metadata": {},
   "outputs": [],
   "source": [
    "models = []\n",
    "\n",
    "\n",
    "params_lgbm = {\n",
    "    'learning_rate': [0.4, 0.5],\n",
    "    'max_depth': [10, 90]#[10, 20, 60, 70, 90]\n",
    "}\n",
    "models.append(('LGBM', LGBMClassifier(), params_lgbm))\n",
    "\n",
    "params_rf = {\n",
    "    'n_estimators': [20,  80, 100],\n",
    "    'max_depth':  [10, 30, 40]}\n",
    "models.append(('Random Forest', RandomForestClassifier(), params_rf)) \n"
   ]
  },
  {
   "cell_type": "code",
   "execution_count": 43,
   "metadata": {},
   "outputs": [
    {
     "name": "stdout",
     "output_type": "stream",
     "text": [
      "Fitting 5 folds for each of 4 candidates, totalling 20 fits\n",
      "LGBM: 0.776991\n",
      "\n",
      "Fitting 5 folds for each of 9 candidates, totalling 45 fits\n",
      "Random Forest: 0.051621\n",
      "\n"
     ]
    }
   ],
   "source": [
    "data_result = []\n",
    "\n",
    "#try:\n",
    "for name, model, hyperparameters in models:\n",
    "    grid = GridSearchCV(model, \n",
    "                        cv=5, \n",
    "                        param_grid=hyperparameters, \n",
    "                        scoring='f1',\n",
    "                        n_jobs=-1,\n",
    "                        verbose=10)\n",
    "    grid.fit(X_train, y_train)\n",
    "    grid.best_estimator_.fit(X_train, y_train)\n",
    "    predicted_test = grid.best_estimator_.predict(X_test)\n",
    "    f1 = f1_score(y_test, predicted_test)\n",
    "    data_result.append([f1, name, model, \n",
    "                        grid.best_params_])\n",
    "    print('%s: %f' % (name, f1))\n",
    "    print()\n",
    "#except:\n",
    "    #print('Ошибка при обучении моделей')\n",
    "    #send('Ошибка при обучении моделей')"
   ]
  },
  {
   "cell_type": "code",
   "execution_count": 53,
   "metadata": {},
   "outputs": [],
   "source": [
    "result_df = pd.DataFrame(data_result, columns = ['F1','Name',\n",
    "                                                   'Model','optimal_parameters']).sort_values('F1', ascending=False)"
   ]
  },
  {
   "cell_type": "code",
   "execution_count": 54,
   "metadata": {},
   "outputs": [
    {
     "data": {
      "text/html": [
       "<div>\n",
       "<style scoped>\n",
       "    .dataframe tbody tr th:only-of-type {\n",
       "        vertical-align: middle;\n",
       "    }\n",
       "\n",
       "    .dataframe tbody tr th {\n",
       "        vertical-align: top;\n",
       "    }\n",
       "\n",
       "    .dataframe thead th {\n",
       "        text-align: right;\n",
       "    }\n",
       "</style>\n",
       "<table border=\"1\" class=\"dataframe\">\n",
       "  <thead>\n",
       "    <tr style=\"text-align: right;\">\n",
       "      <th></th>\n",
       "      <th>F1</th>\n",
       "      <th>Name</th>\n",
       "      <th>Model</th>\n",
       "      <th>optimal_parameters</th>\n",
       "    </tr>\n",
       "  </thead>\n",
       "  <tbody>\n",
       "    <tr>\n",
       "      <th>0</th>\n",
       "      <td>0.776991</td>\n",
       "      <td>LGBM</td>\n",
       "      <td>LGBMClassifier()</td>\n",
       "      <td>{'learning_rate': 0.4, 'max_depth': 90}</td>\n",
       "    </tr>\n",
       "    <tr>\n",
       "      <th>1</th>\n",
       "      <td>0.051621</td>\n",
       "      <td>Random Forest</td>\n",
       "      <td>RandomForestClassifier()</td>\n",
       "      <td>{'max_depth': 40, 'n_estimators': 20}</td>\n",
       "    </tr>\n",
       "  </tbody>\n",
       "</table>\n",
       "</div>"
      ],
      "text/plain": [
       "         F1           Name                     Model  \\\n",
       "0  0.776991           LGBM          LGBMClassifier()   \n",
       "1  0.051621  Random Forest  RandomForestClassifier()   \n",
       "\n",
       "                        optimal_parameters  \n",
       "0  {'learning_rate': 0.4, 'max_depth': 90}  \n",
       "1    {'max_depth': 40, 'n_estimators': 20}  "
      ]
     },
     "metadata": {},
     "output_type": "display_data"
    }
   ],
   "source": [
    "display(result_df)\n",
    "send('Обучение моделей закончено. Лучшая модель: ' + str(result_df.iloc[0]['Model'] )+ '. RMSE:' + str(result_df.iloc[0]['F1']))"
   ]
  },
  {
   "cell_type": "markdown",
   "metadata": {},
   "source": [
    "<b>Итог: </b> LGBM дал нужную метрику"
   ]
  },
  {
   "cell_type": "markdown",
   "metadata": {},
   "source": [
    "## Выводы"
   ]
  },
  {
   "cell_type": "markdown",
   "metadata": {},
   "source": [
    "В проекте мы проверили как можно классифицировать текст на основе токенов TF-IDF и достигли нужной метрики F1 0.776991 (что выше требуемого порогового значения 0,75). В процессе очистили данные от ненужного \"мусора\" и добились приемлимого результата лемматизации для английского текста с помощью бибилиотеки spaСy."
   ]
  }
 ],
 "metadata": {
  "ExecuteTimeLog": [
   {
    "duration": 37228,
    "start_time": "2021-06-20T13:51:24.339Z"
   },
   {
    "duration": 2505,
    "start_time": "2021-06-20T13:52:01.570Z"
   },
   {
    "duration": 5,
    "start_time": "2021-06-20T14:54:25.951Z"
   },
   {
    "duration": 1728,
    "start_time": "2021-06-20T14:55:07.887Z"
   },
   {
    "duration": 39,
    "start_time": "2021-06-20T14:55:27.693Z"
   },
   {
    "duration": 659,
    "start_time": "2021-06-20T14:55:49.711Z"
   },
   {
    "duration": 21,
    "start_time": "2021-06-20T14:55:57.584Z"
   },
   {
    "duration": 15,
    "start_time": "2021-06-20T15:01:29.032Z"
   },
   {
    "duration": 15,
    "start_time": "2021-06-20T15:02:07.514Z"
   },
   {
    "duration": 15,
    "start_time": "2021-06-20T15:02:20.673Z"
   },
   {
    "duration": 13,
    "start_time": "2021-06-20T15:06:57.918Z"
   },
   {
    "duration": 7,
    "start_time": "2021-06-20T15:08:09.759Z"
   },
   {
    "duration": 1373,
    "start_time": "2021-06-20T15:12:53.506Z"
   },
   {
    "duration": 4,
    "start_time": "2021-06-20T15:12:59.699Z"
   },
   {
    "duration": 4,
    "start_time": "2021-06-20T15:13:00.475Z"
   },
   {
    "duration": 5695,
    "start_time": "2021-06-20T15:13:01.241Z"
   },
   {
    "duration": 39,
    "start_time": "2021-06-20T15:13:20.260Z"
   },
   {
    "duration": 108,
    "start_time": "2021-06-20T15:16:12.692Z"
   },
   {
    "duration": 466721,
    "start_time": "2021-06-20T15:16:17.220Z"
   },
   {
    "duration": 4,
    "start_time": "2021-06-20T15:27:08.796Z"
   },
   {
    "duration": 5995,
    "start_time": "2021-06-20T15:27:19.590Z"
   },
   {
    "duration": 7,
    "start_time": "2021-06-20T15:30:00.026Z"
   },
   {
    "duration": 291,
    "start_time": "2021-06-20T15:32:52.938Z"
   },
   {
    "duration": 7,
    "start_time": "2021-06-20T15:32:57.513Z"
   },
   {
    "duration": 114,
    "start_time": "2021-06-20T15:33:00.483Z"
   },
   {
    "duration": 8,
    "start_time": "2021-06-20T15:33:12.583Z"
   },
   {
    "duration": 1129,
    "start_time": "2021-06-20T15:33:15.134Z"
   },
   {
    "duration": 843,
    "start_time": "2021-06-20T15:33:22.774Z"
   },
   {
    "duration": 8,
    "start_time": "2021-06-20T15:36:11.951Z"
   },
   {
    "duration": 12,
    "start_time": "2021-06-20T15:36:25.947Z"
   },
   {
    "duration": 102,
    "start_time": "2021-06-20T15:37:24.836Z"
   },
   {
    "duration": 2247,
    "start_time": "2021-06-20T15:37:29.277Z"
   },
   {
    "duration": 4,
    "start_time": "2021-06-20T15:38:31.681Z"
   },
   {
    "duration": 5,
    "start_time": "2021-06-20T15:38:41.894Z"
   },
   {
    "duration": 2167,
    "start_time": "2021-06-20T15:38:46.566Z"
   },
   {
    "duration": 8,
    "start_time": "2021-06-20T15:39:07.841Z"
   },
   {
    "duration": 17,
    "start_time": "2021-06-20T15:39:10.616Z"
   },
   {
    "duration": 2274,
    "start_time": "2021-06-20T15:39:13.375Z"
   },
   {
    "duration": 951,
    "start_time": "2021-06-20T15:39:52.655Z"
   },
   {
    "duration": 14,
    "start_time": "2021-06-20T15:40:06.179Z"
   },
   {
    "duration": 8,
    "start_time": "2021-06-20T15:40:58.816Z"
   },
   {
    "duration": 11,
    "start_time": "2021-06-20T15:41:00.990Z"
   },
   {
    "duration": 2407,
    "start_time": "2021-06-20T15:41:03.191Z"
   },
   {
    "duration": 5,
    "start_time": "2021-06-20T15:41:52.513Z"
   },
   {
    "duration": 948,
    "start_time": "2021-06-20T15:41:55.782Z"
   },
   {
    "duration": 7,
    "start_time": "2021-06-20T15:42:33.280Z"
   },
   {
    "duration": 17130,
    "start_time": "2021-06-20T15:42:54.177Z"
   },
   {
    "duration": 7,
    "start_time": "2021-06-20T15:43:11.311Z"
   },
   {
    "duration": 5,
    "start_time": "2021-06-20T15:43:11.321Z"
   },
   {
    "duration": 1683,
    "start_time": "2021-06-20T15:43:11.329Z"
   },
   {
    "duration": 47,
    "start_time": "2021-06-20T15:43:13.016Z"
   },
   {
    "duration": 21,
    "start_time": "2021-06-20T15:43:13.066Z"
   },
   {
    "duration": 6,
    "start_time": "2021-06-20T15:43:16.339Z"
   },
   {
    "duration": 4,
    "start_time": "2021-06-20T15:43:20.489Z"
   },
   {
    "duration": 6091,
    "start_time": "2021-06-20T15:43:23.634Z"
   },
   {
    "duration": 12,
    "start_time": "2021-06-20T15:43:31.619Z"
   },
   {
    "duration": 1873,
    "start_time": "2021-06-20T15:43:36.514Z"
   },
   {
    "duration": 940,
    "start_time": "2021-06-20T15:43:47.297Z"
   },
   {
    "duration": 169,
    "start_time": "2021-06-20T15:46:41.544Z"
   },
   {
    "duration": 9,
    "start_time": "2021-06-20T15:48:19.461Z"
   },
   {
    "duration": 21283,
    "start_time": "2021-06-20T15:51:57.471Z"
   },
   {
    "duration": 293,
    "start_time": "2021-06-20T15:53:17.607Z"
   },
   {
    "duration": 318,
    "start_time": "2021-06-20T15:53:25.337Z"
   },
   {
    "duration": 273,
    "start_time": "2021-06-20T15:53:29.710Z"
   },
   {
    "duration": 6,
    "start_time": "2021-06-20T15:54:00.311Z"
   },
   {
    "duration": 4,
    "start_time": "2021-06-20T15:54:18.658Z"
   },
   {
    "duration": 2170,
    "start_time": "2021-06-20T15:54:42.525Z"
   },
   {
    "duration": 5,
    "start_time": "2021-06-20T15:55:00.516Z"
   },
   {
    "duration": 4,
    "start_time": "2021-06-20T15:55:09.553Z"
   },
   {
    "duration": 5,
    "start_time": "2021-06-20T15:55:15.755Z"
   },
   {
    "duration": 5,
    "start_time": "2021-06-20T15:55:22.224Z"
   },
   {
    "duration": 3320,
    "start_time": "2021-06-20T15:58:36.615Z"
   },
   {
    "duration": 1008,
    "start_time": "2021-06-20T15:59:06.454Z"
   },
   {
    "duration": 580,
    "start_time": "2021-06-20T16:00:15.398Z"
   },
   {
    "duration": 6103,
    "start_time": "2021-06-20T16:04:32.823Z"
   },
   {
    "duration": 1449,
    "start_time": "2021-06-20T16:05:19.883Z"
   },
   {
    "duration": 9346,
    "start_time": "2021-06-20T16:07:31.735Z"
   },
   {
    "duration": 790,
    "start_time": "2021-06-20T16:11:07.802Z"
   },
   {
    "duration": 770,
    "start_time": "2021-06-20T16:11:26.718Z"
   },
   {
    "duration": 931,
    "start_time": "2021-06-20T16:13:01.844Z"
   },
   {
    "duration": 735,
    "start_time": "2021-06-20T16:13:04.877Z"
   },
   {
    "duration": 629,
    "start_time": "2021-06-20T16:13:36.044Z"
   },
   {
    "duration": 713,
    "start_time": "2021-06-20T16:13:56.416Z"
   },
   {
    "duration": 20,
    "start_time": "2021-06-20T16:13:58.265Z"
   },
   {
    "duration": 311,
    "start_time": "2021-06-20T16:15:27.212Z"
   },
   {
    "duration": 7,
    "start_time": "2021-06-20T16:16:05.786Z"
   },
   {
    "duration": 4,
    "start_time": "2021-06-20T16:16:14.849Z"
   },
   {
    "duration": 8,
    "start_time": "2021-06-20T16:16:58.464Z"
   },
   {
    "duration": 6434,
    "start_time": "2021-06-20T16:17:11.088Z"
   },
   {
    "duration": 6690,
    "start_time": "2021-06-20T16:17:38.252Z"
   },
   {
    "duration": 106063,
    "start_time": "2021-06-20T16:18:00.956Z"
   },
   {
    "duration": 30404,
    "start_time": "2021-06-21T05:37:01.894Z"
   },
   {
    "duration": 9357,
    "start_time": "2021-06-21T05:37:32.301Z"
   },
   {
    "duration": 3550,
    "start_time": "2021-06-21T05:37:41.662Z"
   },
   {
    "duration": 1948,
    "start_time": "2021-06-21T05:37:45.215Z"
   },
   {
    "duration": -256,
    "start_time": "2021-06-21T05:37:47.423Z"
   },
   {
    "duration": -257,
    "start_time": "2021-06-21T05:37:47.426Z"
   },
   {
    "duration": -256,
    "start_time": "2021-06-21T05:37:47.427Z"
   },
   {
    "duration": -282,
    "start_time": "2021-06-21T05:37:47.454Z"
   },
   {
    "duration": -283,
    "start_time": "2021-06-21T05:37:47.456Z"
   },
   {
    "duration": -282,
    "start_time": "2021-06-21T05:37:47.457Z"
   },
   {
    "duration": -283,
    "start_time": "2021-06-21T05:37:47.459Z"
   },
   {
    "duration": -308,
    "start_time": "2021-06-21T05:37:47.486Z"
   },
   {
    "duration": -309,
    "start_time": "2021-06-21T05:37:47.488Z"
   },
   {
    "duration": -309,
    "start_time": "2021-06-21T05:37:47.490Z"
   },
   {
    "duration": -313,
    "start_time": "2021-06-21T05:37:47.495Z"
   },
   {
    "duration": -314,
    "start_time": "2021-06-21T05:37:47.498Z"
   },
   {
    "duration": -315,
    "start_time": "2021-06-21T05:37:47.500Z"
   },
   {
    "duration": -331,
    "start_time": "2021-06-21T05:37:47.518Z"
   },
   {
    "duration": -332,
    "start_time": "2021-06-21T05:37:47.520Z"
   },
   {
    "duration": -332,
    "start_time": "2021-06-21T05:37:47.521Z"
   },
   {
    "duration": -332,
    "start_time": "2021-06-21T05:37:47.523Z"
   },
   {
    "duration": 17864,
    "start_time": "2021-06-21T05:43:27.540Z"
   },
   {
    "duration": 9442,
    "start_time": "2021-06-21T05:43:45.407Z"
   },
   {
    "duration": 3103,
    "start_time": "2021-06-21T05:43:54.853Z"
   },
   {
    "duration": 2865,
    "start_time": "2021-06-21T05:43:57.959Z"
   },
   {
    "duration": 6,
    "start_time": "2021-06-21T05:44:00.826Z"
   },
   {
    "duration": 5715,
    "start_time": "2021-06-21T05:44:00.835Z"
   },
   {
    "duration": 38,
    "start_time": "2021-06-21T05:44:06.553Z"
   },
   {
    "duration": 20,
    "start_time": "2021-06-21T05:44:06.596Z"
   },
   {
    "duration": 36,
    "start_time": "2021-06-21T05:44:06.620Z"
   },
   {
    "duration": 6145,
    "start_time": "2021-06-21T05:44:06.660Z"
   },
   {
    "duration": 1035,
    "start_time": "2021-06-21T05:44:12.808Z"
   },
   {
    "duration": 1216217,
    "start_time": "2021-06-21T05:44:13.845Z"
   },
   {
    "duration": 214,
    "start_time": "2021-06-21T06:04:30.065Z"
   },
   {
    "duration": 9,
    "start_time": "2021-06-21T06:04:30.355Z"
   },
   {
    "duration": 15,
    "start_time": "2021-06-21T06:04:30.366Z"
   },
   {
    "duration": 800,
    "start_time": "2021-06-21T06:04:30.383Z"
   },
   {
    "duration": -480,
    "start_time": "2021-06-21T06:04:31.665Z"
   },
   {
    "duration": -482,
    "start_time": "2021-06-21T06:04:31.669Z"
   },
   {
    "duration": -486,
    "start_time": "2021-06-21T06:04:31.674Z"
   },
   {
    "duration": -488,
    "start_time": "2021-06-21T06:04:31.678Z"
   },
   {
    "duration": -677,
    "start_time": "2021-06-21T06:04:31.868Z"
   },
   {
    "duration": -682,
    "start_time": "2021-06-21T06:04:31.875Z"
   },
   {
    "duration": 430,
    "start_time": "2021-06-21T06:20:26.547Z"
   },
   {
    "duration": 9,
    "start_time": "2021-06-21T06:20:54.595Z"
   },
   {
    "duration": 253,
    "start_time": "2021-06-21T06:21:02.459Z"
   },
   {
    "duration": 273,
    "start_time": "2021-06-21T06:21:14.236Z"
   },
   {
    "duration": 8,
    "start_time": "2021-06-21T06:21:48.627Z"
   },
   {
    "duration": 7,
    "start_time": "2021-06-21T06:21:55.580Z"
   },
   {
    "duration": 255,
    "start_time": "2021-06-21T06:22:04.050Z"
   },
   {
    "duration": 262,
    "start_time": "2021-06-21T06:22:23.949Z"
   },
   {
    "duration": 254,
    "start_time": "2021-06-21T06:22:51.865Z"
   },
   {
    "duration": 17,
    "start_time": "2021-06-21T06:25:09.987Z"
   },
   {
    "duration": 196,
    "start_time": "2021-06-21T06:25:12.462Z"
   },
   {
    "duration": 8540,
    "start_time": "2021-06-21T06:25:14.284Z"
   },
   {
    "duration": 2007,
    "start_time": "2021-06-21T06:25:27.890Z"
   },
   {
    "duration": 57790,
    "start_time": "2021-06-21T06:25:34.367Z"
   },
   {
    "duration": 160,
    "start_time": "2021-06-21T06:26:32.165Z"
   },
   {
    "duration": 38,
    "start_time": "2021-06-21T06:26:32.328Z"
   },
   {
    "duration": 4107,
    "start_time": "2021-06-21T06:26:32.368Z"
   },
   {
    "duration": 878,
    "start_time": "2021-06-21T06:33:35.477Z"
   },
   {
    "duration": 964,
    "start_time": "2021-06-21T06:35:11.831Z"
   },
   {
    "duration": 137,
    "start_time": "2021-06-21T06:36:42.073Z"
   },
   {
    "duration": 95743,
    "start_time": "2021-06-21T06:36:50.398Z"
   },
   {
    "duration": 25103,
    "start_time": "2021-06-21T06:41:22.864Z"
   },
   {
    "duration": 390754,
    "start_time": "2021-06-21T06:41:51.574Z"
   },
   {
    "duration": 7,
    "start_time": "2021-06-21T06:48:22.332Z"
   },
   {
    "duration": 379,
    "start_time": "2021-06-21T06:49:30.170Z"
   },
   {
    "duration": 21850,
    "start_time": "2021-06-21T06:51:24.709Z"
   },
   {
    "duration": 16388,
    "start_time": "2021-06-21T06:54:58.404Z"
   },
   {
    "duration": 9978,
    "start_time": "2021-06-21T06:55:14.795Z"
   },
   {
    "duration": 3120,
    "start_time": "2021-06-21T06:55:24.778Z"
   },
   {
    "duration": 8302,
    "start_time": "2021-06-21T06:55:27.901Z"
   },
   {
    "duration": 14,
    "start_time": "2021-06-21T06:55:36.207Z"
   },
   {
    "duration": 5214,
    "start_time": "2021-06-21T06:55:36.223Z"
   },
   {
    "duration": 37,
    "start_time": "2021-06-21T06:55:41.440Z"
   },
   {
    "duration": 22,
    "start_time": "2021-06-21T06:55:41.481Z"
   },
   {
    "duration": 5,
    "start_time": "2021-06-21T06:55:41.505Z"
   },
   {
    "duration": 10670,
    "start_time": "2021-06-21T06:55:41.512Z"
   },
   {
    "duration": 1050,
    "start_time": "2021-06-21T06:55:52.186Z"
   },
   {
    "duration": 1269730,
    "start_time": "2021-06-21T06:55:53.238Z"
   },
   {
    "duration": 118,
    "start_time": "2021-06-21T07:17:02.972Z"
   },
   {
    "duration": 65,
    "start_time": "2021-06-21T07:17:03.092Z"
   },
   {
    "duration": 10,
    "start_time": "2021-06-21T07:17:03.160Z"
   },
   {
    "duration": 12,
    "start_time": "2021-06-21T07:17:03.173Z"
   },
   {
    "duration": 206,
    "start_time": "2021-06-21T07:17:03.187Z"
   },
   {
    "duration": 8583,
    "start_time": "2021-06-21T07:17:03.396Z"
   },
   {
    "duration": 2167,
    "start_time": "2021-06-21T07:17:11.982Z"
   },
   {
    "duration": 65904,
    "start_time": "2021-06-21T07:17:14.152Z"
   },
   {
    "duration": 64,
    "start_time": "2021-06-21T07:18:20.059Z"
   },
   {
    "duration": 42,
    "start_time": "2021-06-21T07:18:20.125Z"
   },
   {
    "duration": 7,
    "start_time": "2021-06-21T07:18:20.174Z"
   },
   {
    "duration": 407817,
    "start_time": "2021-06-21T07:18:20.183Z"
   },
   {
    "duration": 18944,
    "start_time": "2021-06-21T07:34:46.669Z"
   },
   {
    "duration": 13224,
    "start_time": "2021-06-21T07:35:05.616Z"
   },
   {
    "duration": 3222,
    "start_time": "2021-06-21T07:35:23.150Z"
   },
   {
    "duration": 8388,
    "start_time": "2021-06-21T07:35:29.254Z"
   },
   {
    "duration": 10,
    "start_time": "2021-06-21T07:36:02.483Z"
   },
   {
    "duration": 258,
    "start_time": "2021-06-21T07:36:04.347Z"
   },
   {
    "duration": 5376,
    "start_time": "2021-06-21T07:36:05.923Z"
   },
   {
    "duration": 34,
    "start_time": "2021-06-21T07:36:11.302Z"
   },
   {
    "duration": 40,
    "start_time": "2021-06-21T07:36:11.340Z"
   },
   {
    "duration": 4,
    "start_time": "2021-06-21T07:36:17.489Z"
   },
   {
    "duration": 8209,
    "start_time": "2021-06-21T07:36:19.604Z"
   },
   {
    "duration": 1233,
    "start_time": "2021-06-21T07:36:32.864Z"
   },
   {
    "duration": 214,
    "start_time": "2021-06-21T07:36:41.310Z"
   },
   {
    "duration": 403786,
    "start_time": "2021-06-21T07:36:42.926Z"
   },
   {
    "duration": 292,
    "start_time": "2021-06-21T07:44:05.487Z"
   },
   {
    "duration": 20717,
    "start_time": "2021-06-21T07:44:21.136Z"
   },
   {
    "duration": 16629,
    "start_time": "2021-06-21T08:05:40.033Z"
   },
   {
    "duration": 11562,
    "start_time": "2021-06-21T08:05:56.665Z"
   },
   {
    "duration": 3036,
    "start_time": "2021-06-21T08:06:08.231Z"
   },
   {
    "duration": 8776,
    "start_time": "2021-06-21T08:06:11.270Z"
   },
   {
    "duration": 9,
    "start_time": "2021-06-21T08:06:20.049Z"
   },
   {
    "duration": 225,
    "start_time": "2021-06-21T08:06:20.060Z"
   },
   {
    "duration": 1874,
    "start_time": "2021-06-21T08:06:20.287Z"
   },
   {
    "duration": 32,
    "start_time": "2021-06-21T08:06:22.165Z"
   },
   {
    "duration": 35,
    "start_time": "2021-06-21T08:06:22.200Z"
   },
   {
    "duration": 19,
    "start_time": "2021-06-21T08:06:22.238Z"
   },
   {
    "duration": 6236,
    "start_time": "2021-06-21T08:06:22.259Z"
   },
   {
    "duration": 1487,
    "start_time": "2021-06-21T08:06:28.498Z"
   },
   {
    "duration": 1257071,
    "start_time": "2021-06-21T08:06:29.990Z"
   },
   {
    "duration": 290,
    "start_time": "2021-06-21T08:27:27.068Z"
   },
   {
    "duration": 6,
    "start_time": "2021-06-21T08:27:27.361Z"
   },
   {
    "duration": 8,
    "start_time": "2021-06-21T08:27:27.370Z"
   },
   {
    "duration": 353,
    "start_time": "2021-06-21T08:27:27.380Z"
   },
   {
    "duration": 8,
    "start_time": "2021-06-21T08:27:27.736Z"
   },
   {
    "duration": 180,
    "start_time": "2021-06-21T08:27:27.746Z"
   },
   {
    "duration": 8363,
    "start_time": "2021-06-21T08:27:27.929Z"
   },
   {
    "duration": 1984,
    "start_time": "2021-06-21T08:27:36.294Z"
   },
   {
    "duration": 252,
    "start_time": "2021-06-21T08:27:38.281Z"
   },
   {
    "duration": 59822,
    "start_time": "2021-06-21T08:27:38.541Z"
   },
   {
    "duration": 190,
    "start_time": "2021-06-21T08:28:38.367Z"
   },
   {
    "duration": 20,
    "start_time": "2021-06-21T08:28:38.560Z"
   },
   {
    "duration": 231,
    "start_time": "2021-06-21T08:28:38.583Z"
   },
   {
    "duration": 281,
    "start_time": "2021-06-21T08:28:38.818Z"
   }
  ],
  "kernelspec": {
   "display_name": "Python 3",
   "language": "python",
   "name": "python3"
  },
  "language_info": {
   "codemirror_mode": {
    "name": "ipython",
    "version": 3
   },
   "file_extension": ".py",
   "mimetype": "text/x-python",
   "name": "python",
   "nbconvert_exporter": "python",
   "pygments_lexer": "ipython3",
   "version": "3.8.5"
  },
  "toc": {
   "base_numbering": 1,
   "nav_menu": {},
   "number_sections": true,
   "sideBar": true,
   "skip_h1_title": true,
   "title_cell": "Содержание",
   "title_sidebar": "Contents",
   "toc_cell": true,
   "toc_position": {
    "height": "calc(100% - 180px)",
    "left": "10px",
    "top": "150px",
    "width": "302.391px"
   },
   "toc_section_display": true,
   "toc_window_display": false
  }
 },
 "nbformat": 4,
 "nbformat_minor": 2
}
